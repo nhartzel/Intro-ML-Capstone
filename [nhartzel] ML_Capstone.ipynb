{
 "cells": [
  {
   "cell_type": "markdown",
   "id": "MBIPlgwErdKj",
   "metadata": {
    "id": "MBIPlgwErdKj"
   },
   "source": [
    "# [Capstone Project] ML for Healthcare\n",
    "\n",
    "Nathan Hartzell\n"
   ]
  },
  {
   "cell_type": "markdown",
   "id": "a6e0d170",
   "metadata": {
    "id": "a6e0d170"
   },
   "source": [
    "## Dataset loading and necessary imports"
   ]
  },
  {
   "cell_type": "code",
   "execution_count": 3,
   "id": "0a9a2b9a",
   "metadata": {
    "id": "0a9a2b9a"
   },
   "outputs": [
    {
     "name": "stdout",
     "output_type": "stream",
     "text": [
      "(500, 141)\n",
      "first sample:  [ 0.0000000e+00 -1.1008778e+00 -3.9968398e+00 -4.2858426e+00\n",
      " -4.5065789e+00 -4.0223767e+00 -3.2343676e+00 -1.5661258e+00\n",
      " -9.9225766e-01 -7.5467971e-01  4.2321173e-02  1.4895093e-01\n",
      "  1.8352707e-01  2.9487608e-01  1.9023267e-01  2.3557500e-01\n",
      "  2.5348712e-01  2.2174240e-01  5.0233259e-02  1.7804214e-01\n",
      "  1.3956318e-01  4.6794433e-02  4.3007139e-02  1.0654432e-01\n",
      "  1.2654003e-02  3.9948539e-03  4.5724179e-02 -4.5999362e-02\n",
      " -7.2666959e-02 -7.1077909e-02 -1.5386649e-01 -2.2725443e-01\n",
      " -2.4926970e-01 -2.5348935e-01 -3.3283516e-01 -2.6432996e-01\n",
      " -3.4582525e-01 -3.1078107e-01 -3.3415978e-01 -3.0617791e-01\n",
      " -1.7456252e-01 -2.0616017e-01 -2.2447967e-01 -4.8683931e-02\n",
      " -1.9621159e-02  9.4805186e-02  1.1678639e-01  1.8518592e-01\n",
      "  2.3052577e-01  1.3802707e-01  2.4442554e-01  2.7169477e-01\n",
      "  2.5900331e-01  2.6920166e-01  1.2706463e-01  2.0207339e-01\n",
      "  2.5598343e-01  1.5311526e-01  2.1021583e-01  1.9108187e-01\n",
      "  1.9092702e-01  2.1051006e-01  2.0710764e-01  2.0488835e-01\n",
      "  2.0086474e-01  3.4691963e-01  3.4800190e-01  2.5453726e-01\n",
      "  3.3197465e-01  3.5669030e-01  3.4992982e-01  4.3037963e-01\n",
      "  4.6750163e-01  4.8606309e-01  4.0318840e-01  4.7895569e-01\n",
      "  3.9739177e-01  4.6412003e-01  4.5179539e-01  3.6136121e-01\n",
      "  3.7983090e-01  3.4278528e-01  3.9910656e-01  3.8750840e-01\n",
      "  2.5570346e-01  2.8403408e-01  2.8499257e-01  2.5010809e-01\n",
      "  1.7303626e-01  1.4942257e-01  1.4168500e-01  2.2226096e-01\n",
      "  1.7284705e-01  1.5077932e-01  1.7656601e-01  2.8094204e-01\n",
      "  4.8993901e-01  6.6088884e-01  8.9319330e-01  1.0269972e+00\n",
      "  1.2023937e+00  1.5574096e+00  1.8084277e+00  2.1643459e+00\n",
      "  2.0707467e+00  1.9036136e+00  1.7644552e+00  1.5077694e+00\n",
      "  1.2934277e+00  8.9456215e-01  5.7801575e-01  2.4434305e-01\n",
      " -2.8644345e-01 -5.1588134e-01 -7.3270694e-01 -8.3246547e-01\n",
      " -8.0331806e-01 -8.3625248e-01 -7.7786456e-01 -7.7475301e-01\n",
      " -7.3340394e-01 -7.2138631e-01 -8.3209517e-01 -7.1198159e-01\n",
      " -7.5186730e-01 -7.5771960e-01 -8.5311967e-01 -7.6698841e-01\n",
      " -6.8816064e-01 -5.1992349e-01  3.9406169e-02  5.6032676e-01\n",
      "  5.3835583e-01  6.5688079e-01  7.8748958e-01  7.2404623e-01\n",
      "  5.5578372e-01  4.7633335e-01  7.7381971e-01  1.1196209e+00\n",
      " -1.4362499e+00]\n",
      "first col sample 10:  0.0\n"
     ]
    }
   ],
   "source": [
    "import pandas as pd\n",
    "import numpy as np\n",
    "from sklearn.preprocessing import StandardScaler\n",
    "\n",
    "ECG_train = pd.read_pickle('ECG5000_train.pickle')\n",
    "ECG_vld = pd.read_pickle('ECG5000_validation.pickle')\n",
    "\n",
    "print(ECG_train.shape)\n",
    "print(\"first sample: \", ECG_train[1])\n",
    "print(\"first col sample 10: \", ECG_train[9][0])"
   ]
  },
  {
   "cell_type": "markdown",
   "id": "96cec146-2e1f-44eb-a225-f053eb9989cf",
   "metadata": {},
   "source": [
    "## Separating samples from labels"
   ]
  },
  {
   "cell_type": "code",
   "execution_count": 5,
   "id": "834b3089-c229-4f2d-8308-723da337f64a",
   "metadata": {},
   "outputs": [
    {
     "name": "stdout",
     "output_type": "stream",
     "text": [
      "(500, 140)\n",
      "(500,)\n"
     ]
    }
   ],
   "source": [
    "# split data into X and y\n",
    "y_trn = ECG_train[:, 0]\n",
    "X_trn = ECG_train[:, 1:]\n",
    "\n",
    "y_vld = ECG_vld[:, 0]\n",
    "X_vld = ECG_vld[:, 1:]\n",
    "\n",
    "print(X_trn.shape)\n",
    "print(y_trn.shape)\n"
   ]
  },
  {
   "cell_type": "markdown",
   "id": "a487df90-ace3-4d1e-b86c-ae7b953a9b8d",
   "metadata": {},
   "source": [
    "## Data Preprocessing -- scaling"
   ]
  },
  {
   "cell_type": "code",
   "execution_count": 11,
   "id": "xeUlQkDGU8NI",
   "metadata": {
    "id": "xeUlQkDGU8NI"
   },
   "outputs": [],
   "source": [
    "scaler = StandardScaler()\n",
    "\n",
    "X_trn_scaled = scaler.fit_transform(X_trn)\n",
    "X_vld_scaled = scaler.transform(X_vld)"
   ]
  },
  {
   "cell_type": "markdown",
   "id": "975d8f81-7ae3-45f4-a863-58be193c8b73",
   "metadata": {},
   "source": [
    "## install pytorch if necessary"
   ]
  },
  {
   "cell_type": "code",
   "execution_count": 139,
   "id": "0fd8853f-8ff6-482e-b253-1dd85f3ca86b",
   "metadata": {},
   "outputs": [
    {
     "name": "stdout",
     "output_type": "stream",
     "text": [
      "Requirement already satisfied: torch in /opt/anaconda3/lib/python3.12/site-packages (2.2.2)\n",
      "Requirement already satisfied: filelock in /opt/anaconda3/lib/python3.12/site-packages (from torch) (3.13.1)\n",
      "Requirement already satisfied: typing-extensions>=4.8.0 in /opt/anaconda3/lib/python3.12/site-packages (from torch) (4.11.0)\n",
      "Requirement already satisfied: sympy in /opt/anaconda3/lib/python3.12/site-packages (from torch) (1.12)\n",
      "Requirement already satisfied: networkx in /opt/anaconda3/lib/python3.12/site-packages (from torch) (3.2.1)\n",
      "Requirement already satisfied: jinja2 in /opt/anaconda3/lib/python3.12/site-packages (from torch) (3.1.4)\n",
      "Requirement already satisfied: fsspec in /opt/anaconda3/lib/python3.12/site-packages (from torch) (2024.3.1)\n",
      "Requirement already satisfied: MarkupSafe>=2.0 in /opt/anaconda3/lib/python3.12/site-packages (from jinja2->torch) (2.1.3)\n",
      "Requirement already satisfied: mpmath>=0.19 in /opt/anaconda3/lib/python3.12/site-packages (from sympy->torch) (1.3.0)\n"
     ]
    }
   ],
   "source": [
    "!pip install torch"
   ]
  },
  {
   "cell_type": "markdown",
   "id": "9cdce065-c87e-40c4-80b2-e6425e7ab5bb",
   "metadata": {},
   "source": [
    "<h1>CNN model in pytorch</h1> \n",
    "\n",
    "from the article -- 3 convolution layers for feature extraction and 2 MLP layers for classification"
   ]
  },
  {
   "cell_type": "code",
   "execution_count": 279,
   "id": "54cf0710-a6d4-4473-a41a-1b21b543406f",
   "metadata": {},
   "outputs": [],
   "source": [
    "import torch\n",
    "import torch.nn as nn\n",
    "import torch.nn.functional as F\n",
    "\n",
    "class ECG1DCNN(nn.Module):\n",
    "    def __init__(self):\n",
    "        super(ECG1DCNN, self).__init__()\n",
    "\n",
    "        # 3 convolutional layers used by research paper\n",
    "        self.conv1 = nn.Conv1d(in_channels=1, out_channels=32, kernel_size=5, padding=2)\n",
    "        self.bn1 = nn.BatchNorm1d(32)\n",
    "\n",
    "        self.conv2 = nn.Conv1d(32, 64, kernel_size=5, padding=2)\n",
    "        self.bn2 = nn.BatchNorm1d(64)\n",
    "\n",
    "        self.conv3 = nn.Conv1d(64, 128, kernel_size=3, padding=1)\n",
    "        self.bn3 = nn.BatchNorm1d(128)\n",
    "\n",
    "        # global pooling \n",
    "        self.global_pool = nn.AdaptiveMaxPool1d(1)\n",
    "\n",
    "        # MLP layers used by research paper\n",
    "        self.fc1 = nn.Linear(128, 64)  \n",
    "        self.dropout = nn.Dropout(0.3)\n",
    "        # linear output layer (5 classes)\n",
    "        self.fc2 = nn.Linear(64, 5)    \n",
    "\n",
    "    def forward(self, x):\n",
    "        # forward function using relu and convolution layers\n",
    "        x = F.relu(self.bn1(self.conv1(x)))\n",
    "        x = F.relu(self.bn2(self.conv2(x)))\n",
    "        x = F.relu(self.bn3(self.conv3(x)))\n",
    "        # pooling\n",
    "        x = self.global_pool(x).squeeze(-1)  # Shape: (batch_size, 128)\n",
    "        # MLP layers\n",
    "        x = F.relu(self.fc1(x))\n",
    "        x = self.dropout(x)\n",
    "        # logits for 5 classes\n",
    "        x = self.fc2(x)  \n",
    "        return x\n"
   ]
  },
  {
   "cell_type": "markdown",
   "id": "cbcd6dbb-3b0e-4393-9b0f-b0218fe157a6",
   "metadata": {},
   "source": [
    "<h2>Convert training data to tensors and dataloaders for model training</h2>"
   ]
  },
  {
   "cell_type": "code",
   "execution_count": 23,
   "id": "d21dabf2-3e6f-435f-af5d-83d5e5864b7e",
   "metadata": {},
   "outputs": [],
   "source": [
    "from torch.utils.data import TensorDataset, DataLoader\n",
    "\n",
    "X_trn_cnn = torch.tensor(X_trn_scaled, dtype=torch.float32).unsqueeze(1)  # shape (N, 1, 140)\n",
    "y_trn_cnn = torch.tensor(y_trn, dtype=torch.long)\n",
    "X_vld_cnn = torch.tensor(X_vld_scaled, dtype=torch.float32).unsqueeze(1)\n",
    "y_vld_cnn = torch.tensor(y_vld, dtype=torch.long)\n",
    "\n",
    "trn_ds = TensorDataset(X_trn_cnn, y_trn_cnn)\n",
    "vld_ds = TensorDataset(X_vld_cnn, y_vld_cnn)\n",
    "trn_loader = DataLoader(trn_ds, batch_size=64, shuffle=True)\n",
    "vld_loader = DataLoader(vld_ds, batch_size=64)"
   ]
  },
  {
   "cell_type": "markdown",
   "id": "e7b9a25d-8b6f-4264-919c-0bd77cb6cbbf",
   "metadata": {},
   "source": [
    "<h2>select loss function and use Adam optimizer</h2>"
   ]
  },
  {
   "cell_type": "code",
   "execution_count": 226,
   "id": "de3400bf-5071-4bf0-98af-28f459b8461f",
   "metadata": {},
   "outputs": [],
   "source": [
    "device = torch.device(\"cuda\" if torch.cuda.is_available() else \"cpu\")\n",
    "model = ECG1DCNN().to(device)\n",
    "\n",
    "criterion = torch.nn.CrossEntropyLoss()\n",
    "optimizer = torch.optim.Adam(model.parameters(), lr=0.001)\n",
    "\n",
    "num_epochs = 5"
   ]
  },
  {
   "cell_type": "markdown",
   "id": "8bc2a51a-9adc-4d2e-977b-480dd5092e30",
   "metadata": {},
   "source": [
    "<h2> train the model using specified number of epochs </h2>"
   ]
  },
  {
   "cell_type": "code",
   "execution_count": 228,
   "id": "d5ba7da4-3145-456d-b1c0-b40344c33201",
   "metadata": {},
   "outputs": [
    {
     "name": "stdout",
     "output_type": "stream",
     "text": [
      "epoch:  1  training accuracy:  0.482\n",
      "epoch:  2  training accuracy:  0.704\n",
      "epoch:  3  training accuracy:  0.81\n",
      "epoch:  4  training accuracy:  0.87\n",
      "epoch:  5  training accuracy:  0.92\n"
     ]
    }
   ],
   "source": [
    "for epoch in range(num_epochs):\n",
    "    model.train()\n",
    "    running_loss = 0.0\n",
    "    correct_preds = 0\n",
    "    total_preds = 0\n",
    "\n",
    "    for X_batch, y_batch in train_loader:\n",
    "        X_batch, y_batch = X_batch.to(device), y_batch.to(device)\n",
    "\n",
    "        optimizer.zero_grad()\n",
    "        outputs = model(X_batch)\n",
    "        loss = criterion(outputs, y_batch)\n",
    "        loss.backward()\n",
    "        optimizer.step()\n",
    "        running_loss += loss.item()\n",
    "\n",
    "        _, preds = torch.max(outputs, dim=1)  # Get the predicted class labels\n",
    "        correct_preds += (preds == y_batch).sum().item()  # Count correct predictions\n",
    "        total_preds += y_batch.size(0)  # Total number of samples in the batch\n",
    "\n",
    "    avg_loss = running_loss / len(train_loader)\n",
    "    epoch_acc = correct_preds / total_preds\n",
    "    print(\"epoch: \",epoch+1, \" training accuracy: \", epoch_acc)"
   ]
  },
  {
   "cell_type": "markdown",
   "id": "9b32e3f0-a334-4096-aa75-5ab935005735",
   "metadata": {},
   "source": [
    "<h2>Predict validation data and calculate metrics</h2>"
   ]
  },
  {
   "cell_type": "code",
   "execution_count": 276,
   "id": "53b33c4b-fc93-47c3-9095-5bcf784818e7",
   "metadata": {},
   "outputs": [],
   "source": [
    "import seaborn as sns\n",
    "import matplotlib.pyplot as plt\n",
    "\n",
    "model.eval()\n",
    "\n",
    "\n",
    "with torch.no_grad():\n",
    "    # get raw outputs from the model\n",
    "    outputs = model(X_vld_cnn.to(device))\n",
    "    # predict most likely class\n",
    "    preds = torch.argmax(outputs, dim=1) \n",
    "\n",
    "predictions = preds.cpu()  \n",
    "true_labels = y_vld_cnn.cpu() \n",
    "\n",
    "# get true labels and predicted labels\n",
    "true_labels = true_labels.numpy()\n",
    "predictions = predictions.numpy()"
   ]
  },
  {
   "cell_type": "code",
   "execution_count": 212,
   "id": "7e426d62-a114-4ea6-abb1-d6df473f20f8",
   "metadata": {},
   "outputs": [
    {
     "name": "stderr",
     "output_type": "stream",
     "text": [
      "/opt/anaconda3/lib/python3.12/site-packages/sklearn/metrics/_classification.py:1509: UndefinedMetricWarning: Precision is ill-defined and being set to 0.0 in labels with no predicted samples. Use `zero_division` parameter to control this behavior.\n",
      "  _warn_prf(average, modifier, f\"{metric.capitalize()} is\", len(result))\n"
     ]
    }
   ],
   "source": [
    "acc = np.mean(true_labels == predictions)\n",
    "recall = recall_score(true_labels, predictions, average='macro')\n",
    "precision = precision_score(true_labels, predictions, average='macro')\n",
    "f1 = f1_score(true_labels, predictions, average='macro')\n",
    "\n",
    "cf_matrix = confusion_matrix(true_labels, predictions)"
   ]
  },
  {
   "cell_type": "code",
   "execution_count": 215,
   "id": "03214fb5-253f-4a55-91ef-972fda761dd7",
   "metadata": {},
   "outputs": [
    {
     "name": "stdout",
     "output_type": "stream",
     "text": [
      "Accuracy: 0.9120\n",
      "Precision (macro): 0.6167\n",
      "Recall (macro): 0.5208\n",
      "F1 Score (macro): 0.5512\n"
     ]
    }
   ],
   "source": [
    "print(\"Accuracy: {:.4f}\".format(acc))\n",
    "print(\"Precision (macro): {:.4f}\".format(precision))\n",
    "print(\"Recall (macro): {:.4f}\".format(recall))\n",
    "print(\"F1 Score (macro): {:.4f}\".format(f1))"
   ]
  },
  {
   "cell_type": "code",
   "execution_count": 205,
   "id": "fd012da5-d33d-4ce2-ad25-da38ecf81bf2",
   "metadata": {},
   "outputs": [
    {
     "data": {
      "text/plain": [
       "Text(50.722222222222214, 0.5, 'True Labels')"
      ]
     },
     "execution_count": 205,
     "metadata": {},
     "output_type": "execute_result"
    },
    {
     "data": {
      "image/png": "[encoded data removed]",
      "text/plain": [
       "<Figure size 640x480 with 2 Axes>"
      ]
     },
     "metadata": {},
     "output_type": "display_data"
    }
   ],
   "source": [
    "plt.figure(dpi=100)\n",
    "\n",
    "group_counts = [\"{0:0.0f}\".format(value) for value in cf_matrix.flatten()]\n",
    "group_percentages = [\"{0:.2%}\".format(value) for value in cf_matrix.flatten()/np.sum(cf_matrix)]\n",
    "labels = [f\"{v1}\\n{v2}\" for v1, v2, in zip(group_counts,group_percentages)]\n",
    "labels = np.asarray(labels).reshape(5,5)\n",
    "sns.heatmap(cf_matrix, annot=labels, fmt='', cmap='Blues')\n",
    "\n",
    "plt.xlabel('Predicted Labels')\n",
    "plt.ylabel('True Labels')"
   ]
  },
  {
   "cell_type": "markdown",
   "id": "0ada2316-5a06-456e-9a5d-c2ae941d3884",
   "metadata": {},
   "source": [
    "<h1>Naive Bayes Classification</h1>\n",
    "<p>A gaussian naive bayes classifier will be trained to test the claim of the second paper that this type of model can have an accuraccy up to 99%</p>\n"
   ]
  },
  {
   "cell_type": "markdown",
   "id": "1ec99af2-cc9c-4677-b611-ff491d2862d6",
   "metadata": {},
   "source": [
    "<b> setting up datasets </b>\n",
    "<p> bringing forward the ECG5000 scaled datasets and relabeling them as varables for NB</p>"
   ]
  },
  {
   "cell_type": "code",
   "execution_count": 237,
   "id": "7e1241e5-ea9d-4bf3-a53d-05f49c8056d4",
   "metadata": {},
   "outputs": [],
   "source": [
    "X_trn_nb = X_trn_scaled\n",
    "y_trn_nb = y_trn\n",
    "X_vld_nb = X_vld_scaled\n",
    "y_vld_nb = y_vld"
   ]
  },
  {
   "cell_type": "markdown",
   "id": "f756a420-4a34-47ce-bd95-6c84fa41470e",
   "metadata": {},
   "source": [
    "<b> Setting up gaussian naive bayes classifier </b>\n",
    "<p>importing the necessary sklearn utitilites to train a gnb classifier</p>"
   ]
  },
  {
   "cell_type": "code",
   "execution_count": 249,
   "id": "6159d719-224f-460a-9338-3d1db204f518",
   "metadata": {},
   "outputs": [],
   "source": [
    "from sklearn.naive_bayes import GaussianNB\n",
    "\n",
    "gnb = GaussianNB()\n",
    "nb_preds = gnb.fit(X_trn_nb, y_trn_nb).predict(X_vld_nb)"
   ]
  },
  {
   "cell_type": "code",
   "execution_count": 255,
   "id": "a401099a-c085-4506-8c9c-ef7a6f7f4363",
   "metadata": {},
   "outputs": [
    {
     "name": "stderr",
     "output_type": "stream",
     "text": [
      "/opt/anaconda3/lib/python3.12/site-packages/sklearn/metrics/_classification.py:1509: UndefinedMetricWarning: Precision is ill-defined and being set to 0.0 in labels with no predicted samples. Use `zero_division` parameter to control this behavior.\n",
      "  _warn_prf(average, modifier, f\"{metric.capitalize()} is\", len(result))\n"
     ]
    }
   ],
   "source": [
    "acc = np.mean(y_vld_nb == nb_preds)\n",
    "recall = recall_score(y_vld_nb, nb_preds, average='macro')\n",
    "precision = precision_score(y_vld_nb, nb_preds, average='macro')\n",
    "f1 = f1_score(y_vld_nb, nb_preds, average='macro')\n",
    "\n",
    "cf_matrix_nb = confusion_matrix(y_vld_nb, nb_preds)"
   ]
  },
  {
   "cell_type": "code",
   "execution_count": 253,
   "id": "06d7dc58-53b4-4929-aac6-177959b6fc9f",
   "metadata": {},
   "outputs": [
    {
     "name": "stdout",
     "output_type": "stream",
     "text": [
      "Accuracy: 0.8580\n",
      "Precision (macro): 0.4840\n",
      "Recall (macro): 0.5472\n",
      "F1 Score (macro): 0.5006\n"
     ]
    }
   ],
   "source": [
    "print(\"Accuracy: {:.4f}\".format(acc))\n",
    "print(\"Precision (macro): {:.4f}\".format(precision))\n",
    "print(\"Recall (macro): {:.4f}\".format(recall))\n",
    "print(\"F1 Score (macro): {:.4f}\".format(f1))"
   ]
  },
  {
   "cell_type": "code",
   "execution_count": 257,
   "id": "d5c9d2ec-ad70-4568-8b52-895353180a8b",
   "metadata": {},
   "outputs": [
    {
     "data": {
      "text/plain": [
       "Text(50.722222222222214, 0.5, 'True Labels')"
      ]
     },
     "execution_count": 257,
     "metadata": {},
     "output_type": "execute_result"
    },
    {
     "data": {
      "image/png": "[encoded data removed]",
      "text/plain": [
       "<Figure size 640x480 with 2 Axes>"
      ]
     },
     "metadata": {},
     "output_type": "display_data"
    }
   ],
   "source": [
    "plt.figure(dpi=100)\n",
    "\n",
    "group_counts = [\"{0:0.0f}\".format(value) for value in cf_matrix_nb.flatten()]\n",
    "group_percentages = [\"{0:.2%}\".format(value) for value in cf_matrix_nb.flatten()/np.sum(cf_matrix_nb)]\n",
    "labels = [f\"{v1}\\n{v2}\" for v1, v2, in zip(group_counts,group_percentages)]\n",
    "labels = np.asarray(labels).reshape(5,5)\n",
    "sns.heatmap(cf_matrix_nb, annot=labels, fmt='', cmap='Blues')\n",
    "\n",
    "plt.xlabel('Predicted Labels')\n",
    "plt.ylabel('True Labels')"
   ]
  },
  {
   "cell_type": "code",
   "execution_count": null,
   "id": "8234156c-bdd3-478e-9353-6004726d39bd",
   "metadata": {},
   "outputs": [],
   "source": []
  }
 ],
 "metadata": {
  "colab": {
   "provenance": [],
   "toc_visible": true
  },
  "kernelspec": {
   "display_name": "Python 3 (ipykernel)",
   "language": "python",
   "name": "python3"
  },
  "language_info": {
   "codemirror_mode": {
    "name": "ipython",
    "version": 3
   },
   "file_extension": ".py",
   "mimetype": "text/x-python",
   "name": "python",
   "nbconvert_exporter": "python",
   "pygments_lexer": "ipython3",
   "version": "3.12.4"
  },
  "toc": {
   "base_numbering": 1,
   "nav_menu": {},
   "number_sections": true,
   "sideBar": true,
   "skip_h1_title": false,
   "title_cell": "Table of Contents",
   "title_sidebar": "Contents",
   "toc_cell": false,
   "toc_position": {},
   "toc_section_display": true,
   "toc_window_display": false
  }
 },
 "nbformat": 4,
 "nbformat_minor": 5
}
